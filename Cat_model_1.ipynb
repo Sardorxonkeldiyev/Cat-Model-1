{
  "nbformat": 4,
  "nbformat_minor": 0,
  "metadata": {
    "colab": {
      "private_outputs": true,
      "provenance": [],
      "gpuType": "T4"
    },
    "kernelspec": {
      "name": "python3",
      "display_name": "Python 3"
    },
    "language_info": {
      "name": "python"
    },
    "accelerator": "GPU"
  },
  "cells": [
    {
      "cell_type": "markdown",
      "source": [
        "### Data:"
      ],
      "metadata": {
        "id": "khfBiG9qPt8G"
      }
    },
    {
      "cell_type": "code",
      "source": [
        "!wget -O cat.jpg https://s1.1zoom.ru/big7/481/Cats_Glance_352969.jpg"
      ],
      "metadata": {
        "id": "mr26KU0sOLLI"
      },
      "execution_count": null,
      "outputs": []
    },
    {
      "cell_type": "markdown",
      "source": [
        "### Python Library:"
      ],
      "metadata": {
        "id": "ls5gQRF_PwVl"
      }
    },
    {
      "cell_type": "code",
      "source": [
        "import torchvision.models as models\n",
        "from PIL import Image\n",
        "import torch\n",
        "from torchvision import transforms\n",
        "import matplotlib.pyplot as plt\n"
      ],
      "metadata": {
        "id": "rAvBNsAROM7Q"
      },
      "execution_count": null,
      "outputs": []
    },
    {
      "cell_type": "markdown",
      "source": [
        "### Model:"
      ],
      "metadata": {
        "id": "f7-0ROhqPz4l"
      }
    },
    {
      "cell_type": "code",
      "source": [
        "# Load and prepare the VGG11 model: (VGG11 modelini yuklash va tayyorlash)\n",
        "weights = models.VGG11_Weights.IMAGENET1K_V1\n",
        "model = models.vgg11(weights=weights)\n",
        "model.eval()\n",
        "categories = weights.meta['categories']"
      ],
      "metadata": {
        "id": "M9038PITOQNp"
      },
      "execution_count": null,
      "outputs": []
    },
    {
      "cell_type": "markdown",
      "source": [
        "### Process Image:"
      ],
      "metadata": {
        "id": "8ze51i2IP2ZF"
      }
    },
    {
      "cell_type": "code",
      "source": [
        "# Image preprocessing function : (Tasvirni oldindan ishlash funksiyasi)\n",
        "def preprocess_image(image_path):\n",
        "    # Tasvirni ochish\n",
        "    img = Image.open(image_path).convert('RGB')\n",
        "\n",
        "    # Tasvirni oldindan ishlash: o'lchamini o'zgartirish, markaziy kesish, tenzorga aylantirish va normallashtirish\n",
        "    preprocess = transforms.Compose([\n",
        "        transforms.Resize(256),\n",
        "        transforms.CenterCrop(224),\n",
        "        transforms.ToTensor(),\n",
        "        transforms.Normalize(mean=[0.485, 0.456, 0.406], std=[0.229, 0.224, 0.225])\n",
        "    ])\n",
        "\n",
        "    # Tasvirni oldindan ishlash\n",
        "    input_tensor = preprocess(img)\n",
        "\n",
        "    # Model tasvirlar to'plamini kutadi, shuning uchun qo'shimcha batch o'lchamini qo'shamiz\n",
        "    input_batch = input_tensor.unsqueeze(0)\n",
        "\n",
        "    return input_batch, img"
      ],
      "metadata": {
        "id": "W4IUhy8xOUZW"
      },
      "execution_count": null,
      "outputs": []
    },
    {
      "cell_type": "code",
      "source": [
        "# Image preprocessing :(Tasvirni oldindan ishlash)\n",
        "input_image, original_img = preprocess_image('cat.jpg')"
      ],
      "metadata": {
        "id": "6k3eG3XBOW7-"
      },
      "execution_count": null,
      "outputs": []
    },
    {
      "cell_type": "code",
      "source": [
        "# Make predictions through the model (Model orqali bashorat qilish):\n",
        "with torch.no_grad():\n",
        "    output = model(input_image)\n"
      ],
      "metadata": {
        "id": "JLN-aLmUOYP9"
      },
      "execution_count": null,
      "outputs": []
    },
    {
      "cell_type": "markdown",
      "source": [
        "### Probibility: Predict"
      ],
      "metadata": {
        "id": "Dqj51KPXP8W0"
      }
    },
    {
      "cell_type": "code",
      "source": [
        "# Calculation of softmax: (Softmaxni hisoblash)\n",
        "probabilities = torch.nn.functional.softmax(output[0], dim=0)"
      ],
      "metadata": {
        "id": "o955j9DHOZgu"
      },
      "execution_count": null,
      "outputs": []
    },
    {
      "cell_type": "code",
      "source": [
        "# Get the highest accuracy category and its accuracy percentage :(Eng yuqori aniqlikdagi kategoriya va uning aniqlik foizini olish):\n",
        "class_idx = torch.argmax(probabilities).item()\n",
        "confidence = probabilities[class_idx].item()"
      ],
      "metadata": {
        "id": "4Cgcc49DOamE"
      },
      "execution_count": null,
      "outputs": []
    },
    {
      "cell_type": "code",
      "source": [
        "# Output the results( Natijalarni chiqarish):\n",
        "\n",
        "print(f\"Predicted category: {categories[class_idx]}\")\n",
        "print(f\"Confidence: {confidence * 100:.2f}%\")\n",
        "\n",
        "# Display image and prediction:( Rasmni va bashoratni ko'rsatish:)\n",
        "\n",
        "plt.imshow(original_img)\n",
        "plt.title(f\"Predicted: {categories[class_idx]}\\nConfidence: {confidence * 100:.2f}%\")\n",
        "plt.axis('off')\n",
        "plt.show()\n"
      ],
      "metadata": {
        "id": "nMr_CcRmOcE9"
      },
      "execution_count": null,
      "outputs": []
    },
    {
      "cell_type": "code",
      "source": [],
      "metadata": {
        "id": "-fyuQBVBOr61"
      },
      "execution_count": null,
      "outputs": []
    }
  ]
}
